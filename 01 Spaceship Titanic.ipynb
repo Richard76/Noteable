{
  "nbformat": 4,
  "nbformat_minor": 5,
  "metadata": {
    "selected_hardware_size": "small",
    "noteable": {
      "last_transaction_id": "0bc00648-6112-4949-9df8-df8cfa245eec"
    }
  },
  "cells": [
    {
      "id": "13bf12d7",
      "cell_type": "code",
      "metadata": {
        "noteable": {
          "output_collection_id": "5b5c88b3-9f50-4b92-9a19-be405f4c31d4"
        },
        "ExecuteTime": {
          "end_time": "2023-06-07T06:09:16.380299+00:00",
          "start_time": "2023-06-07T06:09:16.223546+00:00"
        }
      },
      "execution_count": null,
      "source": "print('Hello, world!')",
      "outputs": []
    },
    {
      "id": "d7fab019-7aef-4031-9d96-7febed6985c0",
      "cell_type": "code",
      "metadata": {
        "jupyter": {
          "outputs_hidden": false,
          "source_hidden": false
        },
        "noteable": {
          "cell_type": "code"
        }
      },
      "execution_count": null,
      "source": "",
      "outputs": []
    },
    {
      "id": "0efdcbc4-a195-4ebf-95a5-7c05ce705e0d",
      "cell_type": "code",
      "metadata": {
        "jupyter": {
          "outputs_hidden": false,
          "source_hidden": false
        },
        "noteable": {
          "cell_type": "code",
          "output_collection_id": "09e4191b-6444-4d10-9b0e-2aa7755f5fac"
        },
        "ExecuteTime": {
          "end_time": "2023-06-07T06:30:28.211004+00:00",
          "start_time": "2023-06-07T06:30:27.889319+00:00"
        },
        "datalink": {
          "42d2d630-0f6c-4626-a2c6-a3bbaf9f3dc5": {
            "applied_filters": [],
            "dataframe_info": {
              "default_index_used": false,
              "orig_num_cols": 14,
              "orig_num_rows": 11,
              "orig_size_bytes": 1320,
              "truncated_num_cols": 14,
              "truncated_num_rows": 11,
              "truncated_size_bytes": 1320,
              "truncated_string_columns": []
            },
            "display_id": "42d2d630-0f6c-4626-a2c6-a3bbaf9f3dc5",
            "dx_settings": {
              "ALLOW_NOTEABLE_ATTRS": true,
              "COLUMN_SAMPLING_METHOD": "outer",
              "DB_LOCATION": ":memory:",
              "DEV_MODE": false,
              "DISPLAY_MAX_COLUMNS": 100,
              "DISPLAY_MAX_ROWS": 50000,
              "DISPLAY_MODE": "simple",
              "ENABLE_ASSIGNMENT": true,
              "ENABLE_DATALINK": true,
              "FLATTEN_COLUMN_VALUES": true,
              "FLATTEN_INDEX_VALUES": false,
              "GENERATE_DEX_METADATA": false,
              "HTML_TABLE_SCHEMA": false,
              "LOG_LEVEL": 30,
              "MAX_RENDER_SIZE_BYTES": 104857600,
              "MAX_STRING_LENGTH": 250,
              "NUM_PAST_SAMPLES_TRACKED": 3,
              "RANDOM_STATE": 12648430,
              "RESET_INDEX_VALUES": false,
              "ROW_SAMPLING_METHOD": "random",
              "SAMPLING_FACTOR": 0.1,
              "SAMPLING_METHOD": "random",
              "STRINGIFY_COLUMN_VALUES": true,
              "STRINGIFY_INDEX_VALUES": false
            },
            "sample_history": [],
            "sampling_time": "2023-06-07T06:30:28.050057",
            "user_variable_name": null,
            "variable_name": "unk_dataframe_0102e8b4d0ae40e090f42a4ffff211c6"
          }
        },
        "scrolled": false
      },
      "execution_count": null,
      "source": "import pandas as pd\ntrain_data = pd.read_csv('train.csv')\ntrain_data.describe(include='all')",
      "outputs": []
    },
    {
      "id": "2566f0e1-140e-41e0-97e1-03e4f97c483f",
      "cell_type": "code",
      "metadata": {
        "jupyter": {
          "outputs_hidden": false,
          "source_hidden": false
        },
        "noteable": {
          "cell_type": "code",
          "output_collection_id": "bb826122-9168-4ee9-9e4a-c1cacb2ad4e4"
        },
        "ExecuteTime": {
          "end_time": "2023-06-07T06:33:17.074518+00:00",
          "start_time": "2023-06-07T06:33:16.891182+00:00"
        },
        "datalink": {
          "977313d4-1e4c-4746-8281-f5e17bf561f7": {
            "applied_filters": [],
            "dataframe_info": {
              "default_index_used": false,
              "orig_num_cols": 1,
              "orig_num_rows": 0,
              "orig_size_bytes": 0,
              "truncated_num_cols": 1,
              "truncated_num_rows": 0,
              "truncated_size_bytes": 0,
              "truncated_string_columns": []
            },
            "display_id": "977313d4-1e4c-4746-8281-f5e17bf561f7",
            "dx_settings": {
              "ALLOW_NOTEABLE_ATTRS": true,
              "COLUMN_SAMPLING_METHOD": "outer",
              "DB_LOCATION": ":memory:",
              "DEV_MODE": false,
              "DISPLAY_MAX_COLUMNS": 100,
              "DISPLAY_MAX_ROWS": 50000,
              "DISPLAY_MODE": "simple",
              "ENABLE_ASSIGNMENT": true,
              "ENABLE_DATALINK": true,
              "FLATTEN_COLUMN_VALUES": true,
              "FLATTEN_INDEX_VALUES": false,
              "GENERATE_DEX_METADATA": false,
              "HTML_TABLE_SCHEMA": false,
              "LOG_LEVEL": 30,
              "MAX_RENDER_SIZE_BYTES": 104857600,
              "MAX_STRING_LENGTH": 250,
              "NUM_PAST_SAMPLES_TRACKED": 3,
              "RANDOM_STATE": 12648430,
              "RESET_INDEX_VALUES": false,
              "ROW_SAMPLING_METHOD": "random",
              "SAMPLING_FACTOR": 0.1,
              "SAMPLING_METHOD": "random",
              "STRINGIFY_COLUMN_VALUES": true,
              "STRINGIFY_INDEX_VALUES": false
            },
            "sample_history": [],
            "sampling_time": "2023-06-07T06:33:16.919043",
            "user_variable_name": null,
            "variable_name": "unk_dataframe_3a02fb23d39c476cae0da7c4b94059a5"
          }
        }
      },
      "execution_count": null,
      "source": "transported_gender = train_data[train_data['Transported'] == 'True']['VIP'].value_counts(normalize=True) * 100\ntransported_gender",
      "outputs": []
    },
    {
      "id": "7a98a468-49d8-4cf4-af28-c893edbcefe0",
      "cell_type": "code",
      "metadata": {
        "jupyter": {
          "outputs_hidden": false,
          "source_hidden": false
        },
        "noteable": {
          "cell_type": "code",
          "output_collection_id": "1c1ecbd9-105f-4a71-a57d-d56cde864227"
        },
        "ExecuteTime": {
          "end_time": "2023-06-07T06:35:29.460558+00:00",
          "start_time": "2023-06-07T06:35:29.295029+00:00"
        }
      },
      "execution_count": null,
      "source": "transported_homeplanet = train_data[train_data['Transported'] == 'True']['HomePlanet'].value_counts(normalize=True) * 100\ntransported_cryosleep = train_data[train_data['Transported'] == 'True']['CryoSleep'].value_counts(normalize=True) * 100\ntransported_destination = train_data[train_data['Transported'] == 'True']['Destination'].value_counts(normalize=True) * 100\ntransported_homeplanet, transported_cryosleep, transported_destination",
      "outputs": []
    },
    {
      "id": "9f88f2c3-fb18-43be-9adc-ab7a345511c4",
      "cell_type": "code",
      "metadata": {
        "jupyter": {
          "outputs_hidden": false,
          "source_hidden": false
        },
        "noteable": {
          "cell_type": "code",
          "output_collection_id": "21897274-5b85-4619-929a-cd9f482f506c"
        },
        "ExecuteTime": {
          "end_time": "2023-06-07T06:37:57.917040+00:00",
          "start_time": "2023-06-07T06:37:56.250549+00:00"
        },
        "datalink": {
          "787e835b-ac12-4a81-8d56-4932f005c621": {
            "applied_filters": [],
            "dataframe_info": {
              "default_index_used": false,
              "orig_num_cols": 1,
              "orig_num_rows": 13,
              "orig_size_bytes": 208,
              "truncated_num_cols": 1,
              "truncated_num_rows": 13,
              "truncated_size_bytes": 208,
              "truncated_string_columns": []
            },
            "display_id": "787e835b-ac12-4a81-8d56-4932f005c621",
            "dx_settings": {
              "ALLOW_NOTEABLE_ATTRS": true,
              "COLUMN_SAMPLING_METHOD": "outer",
              "DB_LOCATION": ":memory:",
              "DEV_MODE": false,
              "DISPLAY_MAX_COLUMNS": 100,
              "DISPLAY_MAX_ROWS": 50000,
              "DISPLAY_MODE": "simple",
              "ENABLE_ASSIGNMENT": true,
              "ENABLE_DATALINK": true,
              "FLATTEN_COLUMN_VALUES": true,
              "FLATTEN_INDEX_VALUES": false,
              "GENERATE_DEX_METADATA": false,
              "HTML_TABLE_SCHEMA": false,
              "LOG_LEVEL": 30,
              "MAX_RENDER_SIZE_BYTES": 104857600,
              "MAX_STRING_LENGTH": 250,
              "NUM_PAST_SAMPLES_TRACKED": 3,
              "RANDOM_STATE": 12648430,
              "RESET_INDEX_VALUES": false,
              "ROW_SAMPLING_METHOD": "random",
              "SAMPLING_FACTOR": 0.1,
              "SAMPLING_METHOD": "random",
              "STRINGIFY_COLUMN_VALUES": true,
              "STRINGIFY_INDEX_VALUES": false
            },
            "sample_history": [],
            "sampling_time": "2023-06-07T06:37:57.761167",
            "user_variable_name": null,
            "variable_name": "unk_dataframe_d51f030bd81c47aebb2b563a31fb0d44"
          }
        }
      },
      "execution_count": null,
      "source": "from sklearn.ensemble import RandomForestClassifier\nfrom sklearn.model_selection import train_test_split\nfrom sklearn.preprocessing import LabelEncoder\n\n# Drop rows with missing values\ntrain_data_clean = train_data.dropna()\n\n# Encode categorical variables\nle = LabelEncoder()\nfor col in train_data_clean.columns:\n    if train_data_clean[col].dtype == 'object':\n        train_data_clean[col] = le.fit_transform(train_data_clean[col])\n\n# Split data into features and target\nX = train_data_clean.drop('Transported', axis=1)\ny = train_data_clean['Transported']\n\n# Split data into training and test sets\nX_train, X_test, y_train, y_test = train_test_split(X, y, test_size=0.2, random_state=42)\n\n# Train a Random Forest Classifier\nclf = RandomForestClassifier(n_estimators=100, random_state=42)\nclf.fit(X_train, y_train)\n\n# Get feature importances\nimportances = clf.feature_importances_\nfeature_importances = pd.Series(importances, index=X.columns).sort_values(ascending=False)\nfeature_importances",
      "outputs": []
    },
    {
      "id": "4466d8d2-6250-4402-a390-f54a883165bc",
      "cell_type": "code",
      "metadata": {
        "jupyter": {
          "outputs_hidden": false,
          "source_hidden": false
        },
        "noteable": {
          "cell_type": "code",
          "output_collection_id": "c80d8659-68a9-4efe-832c-53d5bba98614"
        },
        "ExecuteTime": {
          "end_time": "2023-06-07T06:49:17.312269+00:00",
          "start_time": "2023-06-07T06:49:16.271840+00:00"
        }
      },
      "execution_count": null,
      "source": "test_data = pd.read_csv('test.csv')\nsample_submission = pd.read_csv('sample_submission.csv')\n\n# Preprocess test data\ntest_data_clean = test_data.copy()\nfor col in test_data_clean.columns:\n    if test_data_clean[col].dtype == 'object':\n        test_data_clean[col] = le.fit_transform(test_data_clean[col].astype(str))\n\n# Predict 'Transported' for test data\npredictions = clf.predict(test_data_clean)\n\n# Format predictions similar to sample_submission\nsubmission = sample_submission.copy()\nsubmission['Transported'] = predictions\n\n# Save predictions as 'predict.csv'\nsubmission.to_csv('predict.csv', index=False)\nsubmission",
      "outputs": []
    }
  ]
}