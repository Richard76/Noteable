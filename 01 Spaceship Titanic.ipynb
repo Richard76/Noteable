{
  "nbformat": 4,
  "nbformat_minor": 5,
  "metadata": {
    "selected_hardware_size": "small",
    "noteable": {
      "last_transaction_id": "c84bc725-d8d4-423b-a832-333bb3e9ff78"
    }
  },
  "cells": [
    {
      "id": "0efdcbc4-a195-4ebf-95a5-7c05ce705e0d",
      "cell_type": "code",
      "metadata": {
        "jupyter": {
          "outputs_hidden": false,
          "source_hidden": false
        },
        "noteable": {
          "cell_type": "code",
          "output_collection_id": "442ba07e-b846-4111-bd1d-65210a5af047"
        },
        "ExecuteTime": {
          "end_time": "2023-06-07T07:07:49.854329+00:00",
          "start_time": "2023-06-07T07:07:49.525572+00:00"
        },
        "datalink": {
          "42d2d630-0f6c-4626-a2c6-a3bbaf9f3dc5": {
            "applied_filters": [],
            "dataframe_info": {
              "default_index_used": false,
              "orig_num_cols": 14,
              "orig_num_rows": 11,
              "orig_size_bytes": 1320,
              "truncated_num_cols": 14,
              "truncated_num_rows": 11,
              "truncated_size_bytes": 1320,
              "truncated_string_columns": []
            },
            "display_id": "42d2d630-0f6c-4626-a2c6-a3bbaf9f3dc5",
            "dx_settings": {
              "ALLOW_NOTEABLE_ATTRS": true,
              "COLUMN_SAMPLING_METHOD": "outer",
              "DB_LOCATION": ":memory:",
              "DEV_MODE": false,
              "DISPLAY_MAX_COLUMNS": 100,
              "DISPLAY_MAX_ROWS": 50000,
              "DISPLAY_MODE": "simple",
              "ENABLE_ASSIGNMENT": true,
              "ENABLE_DATALINK": true,
              "FLATTEN_COLUMN_VALUES": true,
              "FLATTEN_INDEX_VALUES": false,
              "GENERATE_DEX_METADATA": false,
              "HTML_TABLE_SCHEMA": false,
              "LOG_LEVEL": 30,
              "MAX_RENDER_SIZE_BYTES": 104857600,
              "MAX_STRING_LENGTH": 250,
              "NUM_PAST_SAMPLES_TRACKED": 3,
              "RANDOM_STATE": 12648430,
              "RESET_INDEX_VALUES": false,
              "ROW_SAMPLING_METHOD": "random",
              "SAMPLING_FACTOR": 0.1,
              "SAMPLING_METHOD": "random",
              "STRINGIFY_COLUMN_VALUES": true,
              "STRINGIFY_INDEX_VALUES": false
            },
            "sample_history": [],
            "sampling_time": "2023-06-07T06:30:28.050057",
            "user_variable_name": null,
            "variable_name": "unk_dataframe_0102e8b4d0ae40e090f42a4ffff211c6"
          },
          "7238e456-f460-475b-91e6-6a93877e98fc": {
            "applied_filters": [],
            "dataframe_info": {
              "default_index_used": false,
              "orig_num_cols": 14,
              "orig_num_rows": 11,
              "orig_size_bytes": 1320,
              "truncated_num_cols": 14,
              "truncated_num_rows": 11,
              "truncated_size_bytes": 1320,
              "truncated_string_columns": []
            },
            "display_id": "7238e456-f460-475b-91e6-6a93877e98fc",
            "dx_settings": {
              "ALLOW_NOTEABLE_ATTRS": true,
              "COLUMN_SAMPLING_METHOD": "outer",
              "DB_LOCATION": ":memory:",
              "DEV_MODE": false,
              "DISPLAY_MAX_COLUMNS": 100,
              "DISPLAY_MAX_ROWS": 50000,
              "DISPLAY_MODE": "simple",
              "ENABLE_ASSIGNMENT": true,
              "ENABLE_DATALINK": true,
              "FLATTEN_COLUMN_VALUES": true,
              "FLATTEN_INDEX_VALUES": false,
              "GENERATE_DEX_METADATA": false,
              "HTML_TABLE_SCHEMA": false,
              "LOG_LEVEL": 30,
              "MAX_RENDER_SIZE_BYTES": 104857600,
              "MAX_STRING_LENGTH": 250,
              "NUM_PAST_SAMPLES_TRACKED": 3,
              "RANDOM_STATE": 12648430,
              "RESET_INDEX_VALUES": false,
              "ROW_SAMPLING_METHOD": "random",
              "SAMPLING_FACTOR": 0.1,
              "SAMPLING_METHOD": "random",
              "STRINGIFY_COLUMN_VALUES": true,
              "STRINGIFY_INDEX_VALUES": false
            },
            "sample_history": [],
            "sampling_time": "2023-06-07T07:07:49.695618",
            "user_variable_name": null,
            "variable_name": "unk_dataframe_38e4ad2230dd4b6e937884c94b20f1f0"
          }
        },
        "scrolled": false
      },
      "execution_count": null,
      "source": "import pandas as pd\ntrain_data = pd.read_csv('train.csv')\ntrain_data.describe(include='all')",
      "outputs": []
    },
    {
      "id": "9f88f2c3-fb18-43be-9adc-ab7a345511c4",
      "cell_type": "code",
      "metadata": {
        "jupyter": {
          "outputs_hidden": false,
          "source_hidden": false
        },
        "noteable": {
          "cell_type": "code",
          "output_collection_id": "05e6a5a1-2a47-4cf3-81bd-38aab8541cf2"
        },
        "ExecuteTime": {
          "end_time": "2023-06-07T07:07:51.099459+00:00",
          "start_time": "2023-06-07T07:07:49.865727+00:00"
        },
        "datalink": {
          "787e835b-ac12-4a81-8d56-4932f005c621": {
            "applied_filters": [],
            "dataframe_info": {
              "default_index_used": false,
              "orig_num_cols": 1,
              "orig_num_rows": 13,
              "orig_size_bytes": 208,
              "truncated_num_cols": 1,
              "truncated_num_rows": 13,
              "truncated_size_bytes": 208,
              "truncated_string_columns": []
            },
            "display_id": "787e835b-ac12-4a81-8d56-4932f005c621",
            "dx_settings": {
              "ALLOW_NOTEABLE_ATTRS": true,
              "COLUMN_SAMPLING_METHOD": "outer",
              "DB_LOCATION": ":memory:",
              "DEV_MODE": false,
              "DISPLAY_MAX_COLUMNS": 100,
              "DISPLAY_MAX_ROWS": 50000,
              "DISPLAY_MODE": "simple",
              "ENABLE_ASSIGNMENT": true,
              "ENABLE_DATALINK": true,
              "FLATTEN_COLUMN_VALUES": true,
              "FLATTEN_INDEX_VALUES": false,
              "GENERATE_DEX_METADATA": false,
              "HTML_TABLE_SCHEMA": false,
              "LOG_LEVEL": 30,
              "MAX_RENDER_SIZE_BYTES": 104857600,
              "MAX_STRING_LENGTH": 250,
              "NUM_PAST_SAMPLES_TRACKED": 3,
              "RANDOM_STATE": 12648430,
              "RESET_INDEX_VALUES": false,
              "ROW_SAMPLING_METHOD": "random",
              "SAMPLING_FACTOR": 0.1,
              "SAMPLING_METHOD": "random",
              "STRINGIFY_COLUMN_VALUES": true,
              "STRINGIFY_INDEX_VALUES": false
            },
            "sample_history": [],
            "sampling_time": "2023-06-07T06:37:57.761167",
            "user_variable_name": null,
            "variable_name": "unk_dataframe_d51f030bd81c47aebb2b563a31fb0d44"
          },
          "fa38a375-0ac5-4c10-ba4f-294e452b7706": {
            "applied_filters": [],
            "dataframe_info": {
              "default_index_used": false,
              "orig_num_cols": 1,
              "orig_num_rows": 13,
              "orig_size_bytes": 208,
              "truncated_num_cols": 1,
              "truncated_num_rows": 13,
              "truncated_size_bytes": 208,
              "truncated_string_columns": []
            },
            "display_id": "fa38a375-0ac5-4c10-ba4f-294e452b7706",
            "dx_settings": {
              "ALLOW_NOTEABLE_ATTRS": true,
              "COLUMN_SAMPLING_METHOD": "outer",
              "DB_LOCATION": ":memory:",
              "DEV_MODE": false,
              "DISPLAY_MAX_COLUMNS": 100,
              "DISPLAY_MAX_ROWS": 50000,
              "DISPLAY_MODE": "simple",
              "ENABLE_ASSIGNMENT": true,
              "ENABLE_DATALINK": true,
              "FLATTEN_COLUMN_VALUES": true,
              "FLATTEN_INDEX_VALUES": false,
              "GENERATE_DEX_METADATA": false,
              "HTML_TABLE_SCHEMA": false,
              "LOG_LEVEL": 30,
              "MAX_RENDER_SIZE_BYTES": 104857600,
              "MAX_STRING_LENGTH": 250,
              "NUM_PAST_SAMPLES_TRACKED": 3,
              "RANDOM_STATE": 12648430,
              "RESET_INDEX_VALUES": false,
              "ROW_SAMPLING_METHOD": "random",
              "SAMPLING_FACTOR": 0.1,
              "SAMPLING_METHOD": "random",
              "STRINGIFY_COLUMN_VALUES": true,
              "STRINGIFY_INDEX_VALUES": false
            },
            "sample_history": [],
            "sampling_time": "2023-06-07T07:07:50.942850",
            "user_variable_name": null,
            "variable_name": "unk_dataframe_089a28a4d1ff456d9fda7cd006ccf500"
          }
        }
      },
      "execution_count": null,
      "source": "from sklearn.ensemble import RandomForestClassifier\nfrom sklearn.model_selection import train_test_split\nfrom sklearn.preprocessing import LabelEncoder\n\n# Drop rows with missing values\ntrain_data_clean = train_data.dropna()\n\n# Encode categorical variables\nle = LabelEncoder()\nfor col in train_data_clean.columns:\n    if train_data_clean[col].dtype == 'object':\n        train_data_clean[col] = le.fit_transform(train_data_clean[col])\n\n# Split data into features and target\nX = train_data_clean.drop('Transported', axis=1)\ny = train_data_clean['Transported']\n\n# Split data into training and test sets\nX_train, X_test, y_train, y_test = train_test_split(X, y, test_size=0.2, random_state=42)\n\n# Train a Random Forest Classifier\nclf = RandomForestClassifier(n_estimators=100, random_state=42)\nclf.fit(X_train, y_train)\n\n# Get feature importances\nimportances = clf.feature_importances_\nfeature_importances = pd.Series(importances, index=X.columns).sort_values(ascending=False)\nfeature_importances",
      "outputs": []
    },
    {
      "id": "0c999a79-7e58-45b3-b591-da27fd23c86d",
      "cell_type": "code",
      "metadata": {
        "jupyter": {
          "outputs_hidden": false,
          "source_hidden": false
        },
        "noteable": {
          "cell_type": "code",
          "output_collection_id": "57dfc981-7088-4cdf-98d0-bcb05377513b"
        },
        "ExecuteTime": {
          "end_time": "2023-06-07T07:08:04.638630+00:00",
          "start_time": "2023-06-07T07:07:51.131304+00:00"
        },
        "datalink": {
          "934c54b2-90b5-4b72-8d08-22f4fc79adea": {
            "applied_filters": [],
            "dataframe_info": {
              "default_index_used": true,
              "orig_num_cols": 2,
              "orig_num_rows": 4277,
              "orig_size_bytes": 72709,
              "truncated_num_cols": 2,
              "truncated_num_rows": 4277,
              "truncated_size_bytes": 72709,
              "truncated_string_columns": []
            },
            "display_id": "934c54b2-90b5-4b72-8d08-22f4fc79adea",
            "dx_settings": {
              "ALLOW_NOTEABLE_ATTRS": true,
              "COLUMN_SAMPLING_METHOD": "outer",
              "DB_LOCATION": ":memory:",
              "DEV_MODE": false,
              "DISPLAY_MAX_COLUMNS": 100,
              "DISPLAY_MAX_ROWS": 50000,
              "DISPLAY_MODE": "simple",
              "ENABLE_ASSIGNMENT": true,
              "ENABLE_DATALINK": true,
              "FLATTEN_COLUMN_VALUES": true,
              "FLATTEN_INDEX_VALUES": false,
              "GENERATE_DEX_METADATA": false,
              "HTML_TABLE_SCHEMA": false,
              "LOG_LEVEL": 30,
              "MAX_RENDER_SIZE_BYTES": 104857600,
              "MAX_STRING_LENGTH": 250,
              "NUM_PAST_SAMPLES_TRACKED": 3,
              "RANDOM_STATE": 12648430,
              "RESET_INDEX_VALUES": false,
              "ROW_SAMPLING_METHOD": "random",
              "SAMPLING_FACTOR": 0.1,
              "SAMPLING_METHOD": "random",
              "STRINGIFY_COLUMN_VALUES": true,
              "STRINGIFY_INDEX_VALUES": false
            },
            "sample_history": [],
            "sampling_time": "2023-06-07T06:51:25.463456",
            "user_variable_name": "submission",
            "variable_name": "submission"
          },
          "24f34023-12ce-40de-bdba-803462870fa0": {
            "applied_filters": [],
            "dataframe_info": {
              "default_index_used": true,
              "orig_num_cols": 2,
              "orig_num_rows": 4277,
              "orig_size_bytes": 72709,
              "truncated_num_cols": 2,
              "truncated_num_rows": 4277,
              "truncated_size_bytes": 72709,
              "truncated_string_columns": []
            },
            "display_id": "24f34023-12ce-40de-bdba-803462870fa0",
            "dx_settings": {
              "ALLOW_NOTEABLE_ATTRS": true,
              "COLUMN_SAMPLING_METHOD": "outer",
              "DB_LOCATION": ":memory:",
              "DEV_MODE": false,
              "DISPLAY_MAX_COLUMNS": 100,
              "DISPLAY_MAX_ROWS": 50000,
              "DISPLAY_MODE": "simple",
              "ENABLE_ASSIGNMENT": true,
              "ENABLE_DATALINK": true,
              "FLATTEN_COLUMN_VALUES": true,
              "FLATTEN_INDEX_VALUES": false,
              "GENERATE_DEX_METADATA": false,
              "HTML_TABLE_SCHEMA": false,
              "LOG_LEVEL": 30,
              "MAX_RENDER_SIZE_BYTES": 104857600,
              "MAX_STRING_LENGTH": 250,
              "NUM_PAST_SAMPLES_TRACKED": 3,
              "RANDOM_STATE": 12648430,
              "RESET_INDEX_VALUES": false,
              "ROW_SAMPLING_METHOD": "random",
              "SAMPLING_FACTOR": 0.1,
              "SAMPLING_METHOD": "random",
              "STRINGIFY_COLUMN_VALUES": true,
              "STRINGIFY_INDEX_VALUES": false
            },
            "sample_history": [],
            "sampling_time": "2023-06-07T07:08:04.474635",
            "user_variable_name": "submission",
            "variable_name": "submission"
          }
        }
      },
      "execution_count": null,
      "source": "from sklearn.experimental import enable_iterative_imputer\nfrom sklearn.impute import IterativeImputer\n\n# Initialize the IterativeImputer\nimp = IterativeImputer(max_iter=10, random_state=42)\n\n# Fit and transform the test data to fill missing values\ntest_data_clean_imputed = imp.fit_transform(test_data_clean)\n\n# Convert the imputed data back to a DataFrame\ntest_data_clean_imputed = pd.DataFrame(test_data_clean_imputed, columns=test_data_clean.columns)\n\n# Predict 'Transported' for the imputed test data\npredictions = clf.predict(test_data_clean_imputed)\n\n# Format predictions similar to sample_submission\nsubmission = sample_submission.copy()\nsubmission['Transported'] = predictions\n\n# Save predictions as 'predict.csv'\nsubmission.to_csv('predict.csv', index=False)\nsubmission",
      "outputs": []
    }
  ]
}