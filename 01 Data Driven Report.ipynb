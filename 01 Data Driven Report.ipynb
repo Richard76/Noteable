{
  "nbformat": 4,
  "nbformat_minor": 5,
  "metadata": {
    "selected_hardware_size": "small",
    "noteable": {
      "last_transaction_id": "28b89136-58a5-46e4-b809-f65e99eef32b"
    }
  },
  "cells": [
    {
      "id": "13bf12d7",
      "cell_type": "code",
      "metadata": {},
      "execution_count": null,
      "source": "",
      "outputs": []
    }
  ]
}