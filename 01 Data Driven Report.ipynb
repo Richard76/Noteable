{
  "nbformat": 4,
  "nbformat_minor": 5,
  "metadata": {
    "selected_hardware_size": "small",
    "noteable": {
      "last_transaction_id": "81bb2f27-6952-4696-9fb8-324c9ba3e710"
    }
  },
  "cells": [
    {
      "id": "13bf12d7",
      "cell_type": "code",
      "metadata": {
        "noteable": {
          "output_collection_id": "5b5c88b3-9f50-4b92-9a19-be405f4c31d4"
        },
        "ExecuteTime": {
          "end_time": "2023-06-07T06:09:16.380299+00:00",
          "start_time": "2023-06-07T06:09:16.223546+00:00"
        }
      },
      "execution_count": null,
      "source": "print('Hello, world!')",
      "outputs": []
    },
    {
      "id": "d7fab019-7aef-4031-9d96-7febed6985c0",
      "cell_type": "code",
      "metadata": {
        "jupyter": {
          "outputs_hidden": false,
          "source_hidden": false
        },
        "noteable": {
          "cell_type": "code"
        }
      },
      "execution_count": null,
      "source": "",
      "outputs": []
    }
  ]
}