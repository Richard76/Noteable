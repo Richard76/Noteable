{
  "nbformat": 4,
  "nbformat_minor": 5,
  "metadata": {
    "selected_hardware_size": "small",
    "noteable": {
      "last_transaction_id": "c51388f1-899f-45db-9a9a-6082f01a0196"
    }
  },
  "cells": [
    {
      "id": "13bf12d7",
      "cell_type": "code",
      "metadata": {
        "noteable": {
          "output_collection_id": "5b5c88b3-9f50-4b92-9a19-be405f4c31d4"
        },
        "ExecuteTime": {
          "end_time": "2023-06-07T06:09:16.380299+00:00",
          "start_time": "2023-06-07T06:09:16.223546+00:00"
        }
      },
      "execution_count": null,
      "source": "print('Hello, world!')",
      "outputs": []
    },
    {
      "id": "d7fab019-7aef-4031-9d96-7febed6985c0",
      "cell_type": "code",
      "metadata": {
        "jupyter": {
          "outputs_hidden": false,
          "source_hidden": false
        },
        "noteable": {
          "cell_type": "code"
        }
      },
      "execution_count": null,
      "source": "",
      "outputs": []
    },
    {
      "id": "0efdcbc4-a195-4ebf-95a5-7c05ce705e0d",
      "cell_type": "code",
      "metadata": {
        "jupyter": {
          "outputs_hidden": false,
          "source_hidden": false
        },
        "noteable": {
          "cell_type": "code",
          "output_collection_id": "09e4191b-6444-4d10-9b0e-2aa7755f5fac"
        },
        "ExecuteTime": {
          "end_time": "2023-06-07T06:30:28.211004+00:00",
          "start_time": "2023-06-07T06:30:27.889319+00:00"
        },
        "datalink": {
          "42d2d630-0f6c-4626-a2c6-a3bbaf9f3dc5": {
            "applied_filters": [],
            "dataframe_info": {
              "default_index_used": false,
              "orig_num_cols": 14,
              "orig_num_rows": 11,
              "orig_size_bytes": 1320,
              "truncated_num_cols": 14,
              "truncated_num_rows": 11,
              "truncated_size_bytes": 1320,
              "truncated_string_columns": []
            },
            "display_id": "42d2d630-0f6c-4626-a2c6-a3bbaf9f3dc5",
            "dx_settings": {
              "ALLOW_NOTEABLE_ATTRS": true,
              "COLUMN_SAMPLING_METHOD": "outer",
              "DB_LOCATION": ":memory:",
              "DEV_MODE": false,
              "DISPLAY_MAX_COLUMNS": 100,
              "DISPLAY_MAX_ROWS": 50000,
              "DISPLAY_MODE": "simple",
              "ENABLE_ASSIGNMENT": true,
              "ENABLE_DATALINK": true,
              "FLATTEN_COLUMN_VALUES": true,
              "FLATTEN_INDEX_VALUES": false,
              "GENERATE_DEX_METADATA": false,
              "HTML_TABLE_SCHEMA": false,
              "LOG_LEVEL": 30,
              "MAX_RENDER_SIZE_BYTES": 104857600,
              "MAX_STRING_LENGTH": 250,
              "NUM_PAST_SAMPLES_TRACKED": 3,
              "RANDOM_STATE": 12648430,
              "RESET_INDEX_VALUES": false,
              "ROW_SAMPLING_METHOD": "random",
              "SAMPLING_FACTOR": 0.1,
              "SAMPLING_METHOD": "random",
              "STRINGIFY_COLUMN_VALUES": true,
              "STRINGIFY_INDEX_VALUES": false
            },
            "sample_history": [],
            "sampling_time": "2023-06-07T06:30:28.050057",
            "user_variable_name": null,
            "variable_name": "unk_dataframe_0102e8b4d0ae40e090f42a4ffff211c6"
          }
        },
        "scrolled": false
      },
      "execution_count": null,
      "source": "import pandas as pd\ntrain_data = pd.read_csv('train.csv')\ntrain_data.describe(include='all')",
      "outputs": []
    }
  ]
}